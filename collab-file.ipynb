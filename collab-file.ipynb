{
  "cells": [
    {
      "cell_type": "markdown",
      "metadata": {
        "id": "-_-WC7nP0hJW"
      },
      "source": []
    },
    {
      "cell_type": "code",
      "execution_count": null,
      "metadata": {
        "id": "d3Zpy6Ixiw5L"
      },
      "outputs": [],
      "source": [
        "from google.colab import drive\n",
        "drive.mount('/content/drive')"
      ]
    },
    {
      "cell_type": "code",
      "execution_count": null,
      "metadata": {
        "id": "NhaimqWklR7l"
      },
      "outputs": [],
      "source": [
        "!pwd"
      ]
    },
    {
      "cell_type": "code",
      "execution_count": null,
      "metadata": {
        "id": "ESx6AWdz14gK"
      },
      "outputs": [],
      "source": [
        "cd /content/drive/MyDrive/BTP/RoBERTa_Hate/"
      ]
    },
    {
      "cell_type": "code",
      "execution_count": null,
      "metadata": {
        "id": "NPR_MJp_XMAD"
      },
      "outputs": [],
      "source": [
        "mkdir stage_bert_1"
      ]
    },
    {
      "cell_type": "code",
      "execution_count": null,
      "metadata": {
        "id": "DS5HrkYr5Mep"
      },
      "outputs": [],
      "source": [
        "!python ./bert/run_ihd_stg1_training_bert.py  --input_files ./implicit-hate-corpus/implicit_hate_v1_stg1_posts.tsv --output_dir ./stage_bert_1"
      ]
    },
    {
      "cell_type": "code",
      "execution_count": null,
      "metadata": {
        "colab": {
          "background_save": true
        },
        "id": "1fNEM48wL_2X"
      },
      "outputs": [],
      "source": [
        "!python ./bert/eval_ihd_stg1_training_bert.py --model_path ./stage_bert_1/model_1.pt --input_files ./stage_bert_1/test.csv --output_path ./stage_bert_1/output_1.txt"
      ]
    },
    {
      "cell_type": "code",
      "execution_count": null,
      "metadata": {
        "colab": {
          "background_save": true
        },
        "id": "aXJVLFioALKu"
      },
      "outputs": [],
      "source": [
        "mkdir stage_bert_2"
      ]
    },
    {
      "cell_type": "code",
      "execution_count": null,
      "metadata": {
        "colab": {
          "background_save": true
        },
        "id": "z1aR1SnHAUvf"
      },
      "outputs": [],
      "source": [
        "!python ./bert/run_ihd_stg2_training_bert.py  --input_files ./implicit-hate-corpus/implicit_hate_v1_stg2_posts.tsv --output_dir ./stage_bert_2"
      ]
    },
    {
      "cell_type": "code",
      "execution_count": null,
      "metadata": {
        "colab": {
          "background_save": true
        },
        "id": "ErDztrJPS5Sa"
      },
      "outputs": [],
      "source": [
        "!python ./bert/eval_ihd_stg2_training_bert.py --model_path ./stage_bert_2/model_2.pt --input_files ./stage_bert_2/test.csv --output_path ./stage_bert_2/output_2.txt"
      ]
    },
    {
      "cell_type": "code",
      "source": [
        "!mkdir stage_distil_bert_1"
      ],
      "metadata": {
        "id": "s3WPWXQwVj1r"
      },
      "execution_count": null,
      "outputs": []
    },
    {
      "cell_type": "code",
      "execution_count": null,
      "metadata": {
        "id": "Z3RPHzAPIjBL"
      },
      "outputs": [],
      "source": [
        "!python ./distill-bert/run_ihd_stg1_training_bert.py  --input_files ./implicit-hate-corpus/implicit_hate_v1_stg1_posts.tsv --output_dir ./stage_distil_bert_1"
      ]
    },
    {
      "cell_type": "code",
      "source": [
        "!python ./distill-bert/eval_ihd_stg1_training_bert.py --model_path ./stage_distil_bert_1/model_1.pt --input_files ./stage_distil_bert_1/test.csv --output_path ./stage_distil_bert_1/output_1.txt"
      ],
      "metadata": {
        "id": "UHM6GCX1VM9F"
      },
      "execution_count": null,
      "outputs": []
    },
    {
      "cell_type": "code",
      "source": [],
      "metadata": {
        "id": "NKTt9zhGdEJu"
      },
      "execution_count": null,
      "outputs": []
    }
  ],
  "metadata": {
    "accelerator": "GPU",
    "colab": {
      "gpuType": "T4",
      "provenance": []
    },
    "kernelspec": {
      "display_name": "Python 3",
      "name": "python3"
    },
    "language_info": {
      "name": "python"
    }
  },
  "nbformat": 4,
  "nbformat_minor": 0
}